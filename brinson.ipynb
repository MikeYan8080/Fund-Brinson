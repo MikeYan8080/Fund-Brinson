{
 "cells": [
  {
   "cell_type": "code",
   "execution_count": 1,
   "metadata": {},
   "outputs": [],
   "source": [
    "import pandas as pd \n",
    "import numpy as np\n",
    "from WindPy import w\n",
    "from tqdm.notebook import tqdm"
   ]
  },
  {
   "cell_type": "code",
   "execution_count": 2,
   "metadata": {},
   "outputs": [],
   "source": [
    "# 提取全部仓位数据, 主要针对半年报\n",
    "def stockproportion(date= '20210331', code = '003567'):\n",
    "    w.start()\n",
    "    data = w.wset(\"allfundhelddetail\",f\"rptdate={date};windcode={code}.OF\")\n",
    "    stocks = pd.DataFrame(data.Data).T\n",
    "    stocks.columns = data.Fields\n",
    "    stocks = stocks[['stock_code', 'stock_name', 'proportiontototalstockinvestments']]\n",
    "    stocks.columns = ['code', 'name', 'weight']\n",
    "    w.close()\n",
    "    return stocks\n",
    "\n",
    "# 提取前十大重仓股数据， 针对季报\n",
    "def stockproportion2(fundcodes, date='20210331', numstock=10):\n",
    "#     w.start()\n",
    "    if not isinstance(fundcodes, list):\n",
    "        fundcodes = list(fundcodes)\n",
    "    fundcodes = [x if x.endswith('OF') else x+'.OF' for x in fundcodes]\n",
    "    if len(fundcodes) > 1:\n",
    "        codes = ','.join(fundcodes)\n",
    "    else:\n",
    "        codes = fundcodes\n",
    "    datatemp = pd.DataFrame([], index=fundcodes)\n",
    "    for x in range(1, numstock + 1):\n",
    "        data = w.wss(codes, \"prt_topstockcode,prt_topstockvalue\", f\"rptDate={date};order={x};unit=1\")\n",
    "        fundtemp = pd.DataFrame(data.Data).T\n",
    "        fundtemp.columns = [f'第{x}权重股代码', f'第{x}权重股市值']\n",
    "        fundtemp.index = data.Codes\n",
    "        datatemp = pd.concat([datatemp, fundtemp], axis=1)\n",
    "#     w.close()\n",
    "    datatemp.to_excel('results/基金重仓股.xlsx')\n",
    "    stockcode = datatemp[[f'第{x}权重股代码' for x in range(1, numstock + 1)]].T\n",
    "    stockcode.reset_index(drop= True, inplace=True)\n",
    "    stockcode.columns = [x+'code' for x in fundcodes]\n",
    "\n",
    "    stockvalue = datatemp[[f'第{x}权重股市值' for x in range(1, numstock + 1)]].T\n",
    "    stockvalue.reset_index(drop= True, inplace=True)\n",
    "    stockvalue.fillna(0, inplace=True)\n",
    "\n",
    "    stockweight = stockvalue.apply(lambda x: x/sum(x), axis=0)\n",
    "    stockweight.columns = [x+'weight' for x in fundcodes]\n",
    "    datatemp2 = pd.concat([stockcode, stockweight], axis=1)\n",
    "    result = dict()\n",
    "    for x in fundcodes:\n",
    "        table = datatemp2[[x+'code', x+'weight']]\n",
    "        table.columns = ['code', 'weight']\n",
    "        table.dropna(how='any', inplace=True)\n",
    "        result[x] = table\n",
    "    return result\n"
   ]
  },
  {
   "cell_type": "code",
   "execution_count": 3,
   "metadata": {},
   "outputs": [],
   "source": [
    "# 汇总基金持仓股票的行业权重和涨跌幅\n",
    "def fundinfo(fundtable, stocktable):\n",
    "    fundstock = fundtable.merge(stocktable, how='left', left_on='code', right_on='证券代码')\n",
    "    fundstock = fundstock[['code', '证券简称','weight','所属申万行业名称','区间涨跌幅']]\n",
    "    fundstock.columns = ['code', 'name','weight','swindustry','return3m']\n",
    "    fundstock['weight'] = fundstock['weight']\n",
    "    fundstock['wr'] = fundstock['weight'] * fundstock['return3m']\n",
    "    fundindus = fundstock.groupby(by='swindustry')['weight','wr'].sum()\n",
    "    fundindus[f'return'] = fundindus[f'wr']/fundindus['weight']\n",
    "    return fundindus"
   ]
  },
  {
   "cell_type": "code",
   "execution_count": 4,
   "metadata": {},
   "outputs": [],
   "source": [
    "# 运行Brinson模型\n",
    "def brinson(indus, fund):\n",
    "    mergetable = indus.merge(fund, how='left', left_on='所属申万行业名称',right_index=True)\n",
    "    mergetable.fillna(0, inplace=True)\n",
    "    mergetable['AR'] = (mergetable['weight']- mergetable['权重'])* mergetable['3个月涨跌幅']\n",
    "    mergetable['SR'] = (mergetable['return']- mergetable['3个月涨跌幅'])* mergetable['weight']\n",
    "    result = mergetable[['AR','SR']].apply(lambda x: sum(x), axis=0)\n",
    "#     print(mergetable)\n",
    "    return result\n",
    "    "
   ]
  },
  {
   "cell_type": "code",
   "execution_count": 5,
   "metadata": {},
   "outputs": [
    {
     "name": "stdout",
     "output_type": "stream",
     "text": [
      "['20180630', '20180930', '20181231', '20190331', '20190630', '20190930', '20191231', '20200331', '20200630', '20200930', '20201231', '20210331']\n"
     ]
    }
   ],
   "source": [
    "dates = []\n",
    "for x in range(2018,2022):\n",
    "    for y in ['0331', '0630', '0930', '1231']:\n",
    "        dates.append(str(x)+y)\n",
    "dates = dates[1:-3]\n",
    "print(dates)"
   ]
  },
  {
   "cell_type": "code",
   "execution_count": 6,
   "metadata": {},
   "outputs": [],
   "source": [
    "\n",
    "def brinsonall(codes, dates=dates):\n",
    "    w.start()\n",
    "    arset = pd.DataFrame()\n",
    "    srset = pd.DataFrame()\n",
    "    codes = [x if x.endswith('OF') else x+'.OF' for x in codes]\n",
    "#     print(codes)\n",
    "    for date in tqdm(dates):\n",
    "        funds = stockproportion2(codes,date=date)\n",
    "        allstock = pd.read_excel(f'data/A股{date}.xlsx')\n",
    "        allstock.dropna(subset=['所属申万行业名称'], inplace=True)\n",
    "        allstock['证券代码'] = allstock['证券代码'].map(lambda x: x[:-3])\n",
    "        indus = pd.read_excel(f'data/基准fund{date}.xlsx')[['所属申万行业名称', '权重','3个月涨跌幅']]\n",
    "        for key in tqdm(funds):\n",
    "            fundindus = fundinfo(fundtable=funds[key], stocktable=allstock)\n",
    "            ARSR = brinson(indus, fundindus)\n",
    "            arset.loc[key, date] = ARSR['AR']\n",
    "            srset.loc[key, date] = ARSR['SR']\n",
    "    w.close()\n",
    "    return {'arset':arset, 'srset':srset}"
   ]
  },
  {
   "cell_type": "code",
   "execution_count": 7,
   "metadata": {
    "scrolled": false
   },
   "outputs": [
    {
     "name": "stdout",
     "output_type": "stream",
     "text": [
      "Welcome to use Wind Quant API for Python (WindPy)!\n",
      "\n",
      "COPYRIGHT (C) 2020 WIND INFORMATION CO., LTD. ALL RIGHTS RESERVED.\n",
      "IN NO CIRCUMSTANCE SHALL WIND BE RESPONSIBLE FOR ANY DAMAGES OR LOSSES CAUSED BY USING WIND QUANT API FOR Python.\n",
      "['001643.OF', '003853.OF', '000828.OF', '000336.OF', '001679.OF', '005968.OF', '002190.OF', '003984.OF', '000209.OF', '002083.OF', '165516.OF', '003834.OF', '001704.OF', '161903.OF', '001856.OF', '001245.OF', '002168.OF', '001616.OF', '004812.OF', '001606.OF', '002669.OF', '001410.OF', '001216.OF', '002780.OF', '004997.OF', '001951.OF', '001532.OF', '000263.OF', '005689.OF', '001156.OF', '003516.OF', '005136.OF', '005927.OF', '000409.OF', '005805.OF', '519778.OF', '001054.OF', '005630.OF', '519133.OF', '004640.OF', '003230.OF', '481010.OF', '002939.OF', '360016.OF', '001811.OF', '003961.OF', '400015.OF', '002846.OF', '519002.OF', '000601.OF', '000541.OF', '540008.OF', '001104.OF', '005668.OF', '000924.OF', '001224.OF', '001126.OF', '290011.OF', '673060.OF', '002943.OF', '001543.OF', '398051.OF', '001476.OF', '001694.OF', '001716.OF', '004075.OF', '002340.OF', '000977.OF', '001790.OF', '001875.OF', '001702.OF', '000991.OF', '001538.OF', '100060.OF', '001717.OF', '519727.OF', '090018.OF', '005642.OF', '166301.OF', '550015.OF', '000592.OF', '210008.OF', '180012.OF', '005453.OF', '001300.OF', '002980.OF', '005119.OF', '213001.OF', '481015.OF', '161818.OF', '270028.OF', '004745.OF', '001445.OF', '002770.OF', '000584.OF', '519704.OF', '002482.OF', '519773.OF', '005037.OF', '001959.OF', '000452.OF', '005543.OF', '004851.OF', '166019.OF', '005352.OF', '001039.OF', '040035.OF', '005241.OF', '002132.OF', '257070.OF', '004424.OF', '240011.OF', '720001.OF', '202027.OF', '070021.OF', '001985.OF', '002446.OF', '001714.OF', '004040.OF', '001815.OF', '000294.OF', '003956.OF', '005176.OF', '519126.OF', '206012.OF', '001102.OF', '000746.OF', '001496.OF', '001171.OF', '001508.OF', '270007.OF', '100020.OF', '162703.OF', '168002.OF', '001043.OF', '002249.OF', '001480.OF', '004616.OF', '004895.OF', '002708.OF', '519674.OF', '001070.OF', '003745.OF', '001705.OF', '570008.OF', '001071.OF', '000793.OF', '002620.OF', '004604.OF', '004905.OF', '000939.OF', '004868.OF', '168501.OF', '003291.OF', '003940.OF', '519089.OF', '001869.OF', '001766.OF', '001069.OF', '000404.OF', '610002.OF', '005904.OF', '050026.OF', '540003.OF', '270021.OF', '005738.OF', '000529.OF', '001009.OF', '750001.OF', '002124.OF', '003095.OF', '001938.OF', '370024.OF', '000339.OF', '530001.OF', '003304.OF', '005682.OF', '001832.OF', '000940.OF', '519003.OF', '002408.OF', '100039.OF', '000913.OF', '005669.OF', '001158.OF', '000634.OF', '320022.OF', '450011.OF', '004374.OF', '001677.OF', '002160.OF', '000985.OF', '005812.OF', '005251.OF', '519915.OF', '000727.OF', '002307.OF', '001956.OF', '000751.OF', '000609.OF', '398061.OF', '163807.OF', '519655.OF', '001140.OF', '377240.OF', '162204.OF', '001975.OF', '240022.OF', '000831.OF', '000083.OF', '162605.OF', '001072.OF', '260104.OF', '000220.OF', '519702.OF', '000663.OF', '163409.OF', '000595.OF', '377530.OF', '000696.OF', '040011.OF', '002563.OF', '000031.OF', '001222.OF', '002133.OF', '000960.OF', '260109.OF', '360006.OF', '000971.OF', '162208.OF', '001000.OF', '161706.OF', '000513.OF', '370027.OF', '040005.OF', '519091.OF', '001018.OF', '450003.OF', '002542.OF', '519026.OF', '320007.OF', '450004.OF', '260108.OF', '001809.OF', '050010.OF', '005379.OF', '519714.OF', '163822.OF', '002450.OF', '002692.OF', '002148.OF', '005421.OF', '001236.OF', '460005.OF', '460007.OF', '004357.OF', '003593.OF', '519672.OF', '162203.OF', '519909.OF', '161616.OF', '005481.OF', '001513.OF', '165313.OF', '163406.OF', '005742.OF', '003378.OF', '001852.OF', '519979.OF', '460001.OF', '005402.OF', '002345.OF', '005028.OF', '519171.OF', '310388.OF', '200012.OF', '163415.OF', '000328.OF', '001576.OF', '160624.OF', '040020.OF', '519035.OF', '005233.OF', '166801.OF', '501051.OF', '000698.OF', '240009.OF', '001297.OF', '001667.OF', '000362.OF', '217010.OF', '481017.OF', '000124.OF', '590005.OF', '002959.OF', '570001.OF', '270050.OF', '001471.OF', '160611.OF', '487016.OF', '610005.OF', '163411.OF', '001490.OF', '162201.OF', '161606.OF', '530006.OF', '160918.OF', '005596.OF', '005303.OF', '001215.OF', '005739.OF', '001695.OF', '160610.OF', '501038.OF', '001037.OF', '519673.OF', '004434.OF', '398001.OF', '040016.OF', '005593.OF', '310308.OF', '110013.OF', '000167.OF', '001749.OF', '000390.OF', '410003.OF', '004958.OF', '001053.OF', '005400.OF', '000854.OF', '000117.OF', '000061.OF', '470006.OF', '005275.OF', '002562.OF', '375010.OF', '001166.OF', '005311.OF', '001008.OF', '000690.OF', '005106.OF', '519056.OF', '000418.OF', '002967.OF', '003624.OF', '002593.OF', '240020.OF', '000462.OF', '002801.OF', '005268.OF', '000073.OF', '001955.OF', '005498.OF', '001990.OF', '166006.OF', '070018.OF', '050022.OF', '001915.OF', '005004.OF', '005164.OF', '470008.OF', '519158.OF', '001740.OF', '519918.OF', '001186.OF', '004423.OF', '005730.OF', '213006.OF', '519670.OF', '519679.OF', '180018.OF', '001605.OF', '000967.OF', '121008.OF', '160127.OF', '001736.OF', '020010.OF', '217012.OF', '000136.OF', '004183.OF', '001874.OF', '004693.OF', '660004.OF', '163803.OF', '270022.OF', '110023.OF', '373020.OF', '001163.OF', '000017.OF', '000574.OF', '001382.OF', '040007.OF', '002910.OF', '070002.OF', '005094.OF', '110015.OF', '005620.OF', '001396.OF', '519736.OF', '150968.OF', '005450.OF', '001468.OF', '001040.OF', '470098.OF', '110011.OF', '001857.OF', '000870.OF', '164205.OF', '560002.OF', '379010.OF', '550002.OF', '519688.OF', '005267.OF', '168105.OF', '690007.OF', '001753.OF', '290004.OF', '001558.OF', '398011.OF', '530011.OF', '001280.OF', '000717.OF', '166011.OF', '001645.OF', '519698.OF', '519017.OF', '004995.OF', '001195.OF', '690005.OF', '000603.OF', '005409.OF', '001500.OF', '004848.OF', '001986.OF', '004448.OF', '001143.OF', '004986.OF', '000996.OF', '000532.OF', '260101.OF', '160605.OF', '210005.OF', '004959.OF', '001036.OF', '163809.OF', '481006.OF', '000778.OF', '001306.OF', '100022.OF', '310328.OF', '000020.OF', '180031.OF', '000527.OF', '217009.OF', '002773.OF', '001579.OF', '161219.OF', '000408.OF', '004505.OF', '002621.OF', '000029.OF', '166009.OF', '001359.OF', '519181.OF', '001409.OF', '002547.OF', '001623.OF', '005395.OF', '377020.OF', '000652.OF', '168103.OF', '001373.OF', '519908.OF', '660012.OF', '004263.OF', '005683.OF', '005609.OF', '002808.OF', '001125.OF', '169104.OF', '160813.OF', '210004.OF', '206002.OF', '519196.OF', '004698.OF', '163417.OF', '001278.OF', '660005.OF', '000780.OF', '001230.OF', '233007.OF', '519195.OF', '004224.OF', '001924.OF', '001287.OF', '110012.OF', '288001.OF', '001384.OF', '004355.OF', '450009.OF', '121005.OF', '378010.OF', '560003.OF', '320012.OF', '001117.OF', '001152.OF', '400025.OF', '001728.OF', '519013.OF', '004148.OF', '001898.OF', '000556.OF', '004677.OF', '160603.OF', '005474.OF', '590008.OF', '002683.OF', '001542.OF', '519668.OF', '660003.OF', '630011.OF', '206007.OF', '002067.OF', '481001.OF', '003293.OF', '070032.OF', '002983.OF', '004934.OF', '121006.OF', '070099.OF', '004686.OF', '001417.OF', '000742.OF', '005244.OF', '001028.OF', '501054.OF', '151001.OF', '004476.OF', '005802.OF', '005777.OF', '000021.OF', '501001.OF', '005541.OF', '240017.OF', '090015.OF', '003634.OF', '161834.OF', '050009.OF', '519710.OF', '001313.OF', '000566.OF', '003434.OF', '166023.OF', '121003.OF', '000165.OF', '001181.OF', '161232.OF', '000824.OF', '100029.OF', '003165.OF', '519087.OF', '001404.OF', '110022.OF', '000082.OF', '161610.OF', '000259.OF', '005618.OF', '000219.OF', '160133.OF', '180013.OF', '163804.OF', '100026.OF', '240002.OF', '001268.OF', '160642.OF', '040025.OF', '000594.OF', '002142.OF', '162006.OF', '000711.OF', '001703.OF', '376510.OF', '005711.OF', '320003.OF', '202023.OF', '519193.OF', '519994.OF', '200008.OF', '005810.OF', '270005.OF', '001475.OF', '000628.OF', '630010.OF', '166001.OF', '004477.OF', '005612.OF', '002259.OF', '000805.OF', '001106.OF', '450010.OF', '001651.OF', '163805.OF', '160627.OF', '160805.OF', '240001.OF', '002095.OF', '005001.OF', '001581.OF', '519996.OF', '519772.OF', '519779.OF', '217005.OF', '002681.OF', '005449.OF', '340006.OF', '004138.OF', '580002.OF', '519664.OF', '002685.OF', '202002.OF', '481004.OF', '002558.OF', '005260.OF', '001256.OF', '470009.OF', '002229.OF', '150103.OF', '202011.OF', '202001.OF', '020009.OF', '200007.OF', '001357.OF', '399011.OF', '001127.OF', '420003.OF', '000936.OF', '240004.OF', '202009.OF', '166002.OF', '519700.OF', '530003.OF', '001726.OF', '580003.OF', '360005.OF', '510081.OF', '070019.OF', '001927.OF', '163412.OF', '001103.OF', '519694.OF', '001210.OF', '481013.OF', '519005.OF', '000471.OF', '161005.OF', '519020.OF', '630015.OF', '005225.OF', '001706.OF', '110029.OF', '000763.OF', '270006.OF', '001672.OF', '519068.OF', '003955.OF', '688888.OF', '161810.OF', '001076.OF', '168102.OF', '005335.OF', '004685.OF', '004450.OF', '001144.OF', '519712.OF', '002624.OF', '040008.OF', '519018.OF', '002264.OF', '001319.OF', '519110.OF', '020005.OF', '070010.OF', '001128.OF', '001197.OF', '001227.OF', '001218.OF', '340008.OF', '550008.OF', '070027.OF', '000878.OF', '540010.OF', '310358.OF', '004674.OF', '002031.OF', '519756.OF', '162209.OF', '005067.OF', '070006.OF', '519170.OF', '001725.OF', '003131.OF', '590003.OF', '213008.OF', '160211.OF', '001449.OF', '110009.OF', '519066.OF', '000761.OF', '005521.OF', '003456.OF', '400001.OF', '519224.OF', '080012.OF', '002989.OF', '005109.OF', '630008.OF', '000520.OF', '202007.OF', '160921.OF', '000945.OF', '001424.OF', '050012.OF', '202003.OF', '450002.OF', '398041.OF', '001349.OF', '163302.OF', '160314.OF', '398021.OF', '002011.OF', '162102.OF', '005650.OF', '001416.OF', '257030.OF', '003416.OF', '519008.OF', '160607.OF', '001974.OF', '002251.OF', '002332.OF', '163801.OF', '001047.OF', '001088.OF', '001188.OF', '070011.OF', '481008.OF', '001763.OF', '000577.OF', '340007.OF', '161609.OF', '003803.OF', '257020.OF', '020003.OF', '630005.OF', '519015.OF', '004716.OF', '163402.OF', '519697.OF', '004702.OF', '673110.OF', '160106.OF', '180020.OF', '590001.OF', '001184.OF', '288002.OF', '240008.OF', '217001.OF', '660010.OF', '233006.OF', '001521.OF', '483003.OF', '004881.OF', '169105.OF', '213002.OF', '169102.OF', '002220.OF', '000127.OF', '000477.OF', '519692.OF', '160613.OF', '000654.OF', '001170.OF', '001048.OF', '001050.OF', '002597.OF', '000011.OF', '001208.OF', '260116.OF', '202005.OF', '160916.OF', '160212.OF', '180010.OF', '002504.OF', '213003.OF', '501049.OF', '519606.OF', '000697.OF', '001042.OF', '540006.OF', '001225.OF', '001758.OF', '001759.OF', '519021.OF', '001118.OF', '002803.OF', '260103.OF', '206009.OF', '519039.OF', '762001.OF', '004142.OF', '001796.OF', '233009.OF', '001980.OF', '519001.OF', '660001.OF', '004666.OF', '090004.OF', '001345.OF', '200006.OF', '001536.OF', '002560.OF', '320006.OF', '003147.OF', '000955.OF', '260110.OF', '001044.OF', '003025.OF', '377010.OF', '003119.OF', '320005.OF', '002871.OF', '290002.OF', '000963.OF', '003715.OF', '001150.OF', '519029.OF', '070022.OF', '160505.OF', '162207.OF', '004292.OF', '000586.OF', '163503.OF', '001419.OF', '003396.OF', '420001.OF', '710001.OF', '000535.OF', '110010.OF', '519069.OF', '000173.OF', '001371.OF', '630002.OF', '001764.OF', '519993.OF', '002270.OF', '360001.OF', '020026.OF', '000970.OF', '270041.OF', '001901.OF', '001305.OF', '519156.OF', '001910.OF', '165512.OF', '530005.OF', '160311.OF', '004871.OF', '673071.OF', '001562.OF', '001564.OF', '410001.OF', '000550.OF', '005053.OF', '270008.OF', '590002.OF', '519011.OF', '110005.OF', '002367.OF', '000880.OF', '005386.OF', '162607.OF', '161038.OF', '400003.OF', '004707.OF', '000619.OF', '000457.OF', '519961.OF', '001441.OF', '005123.OF', '519613.OF', '005354.OF', '001712.OF', '001244.OF', '002653.OF', '003882.OF', '112002.OF', '001178.OF', '001837.OF', '001314.OF', '001443.OF', '001075.OF', '005325.OF', '519019.OF', '160910.OF', '070013.OF', '001838.OF', '000841.OF', '540002.OF', '001650.OF', '001498.OF', '202019.OF', '001747.OF', '161601.OF', '001878.OF', '001074.OF', '000925.OF', '110002.OF', '671010.OF', '002330.OF', '002121.OF', '001511.OF', '000979.OF', '270025.OF', '004153.OF', '003839.OF', '002363.OF', '210009.OF', '162717.OF', '001583.OF', '001112.OF', '550003.OF', '070003.OF', '000545.OF', '004932.OF', '002514.OF', '002851.OF', '519983.OF', '169103.OF', '460009.OF', '000849.OF', '000877.OF', '240010.OF', '169101.OF', '003950.OF', '163110.OF', '004737.OF', '004453.OF', '000480.OF', '580001.OF', '257010.OF', '000986.OF', '005323.OF', '001239.OF', '550001.OF', '519623.OF', '163823.OF', '002778.OF', '002837.OF', '000063.OF', '001682.OF', '164403.OF', '161233.OF', '001173.OF', '005459.OF', '002358.OF', '003831.OF', '519127.OF', '519629.OF', '002269.OF', '001141.OF', '090007.OF', '001816.OF', '003292.OF', '002605.OF', '003663.OF', '050004.OF', '519652.OF', '005960.OF', '002118.OF', '320011.OF', '002197.OF', '005549.OF', '004617.OF', '519625.OF', '001499.OF', '005373.OF', '519951.OF']\n"
     ]
    },
    {
     "data": {
      "application/vnd.jupyter.widget-view+json": {
       "model_id": "dbd04dcb0818453585f7cb98e5a5deb8",
       "version_major": 2,
       "version_minor": 0
      },
      "text/plain": [
       "  0%|          | 0/12 [00:00<?, ?it/s]"
      ]
     },
     "metadata": {},
     "output_type": "display_data"
    },
    {
     "name": "stderr",
     "output_type": "stream",
     "text": [
      "c:\\users\\严书航\\appdata\\local\\programs\\python\\python37\\lib\\site-packages\\ipykernel_launcher.py:46: SettingWithCopyWarning: \n",
      "A value is trying to be set on a copy of a slice from a DataFrame\n",
      "\n",
      "See the caveats in the documentation: https://pandas.pydata.org/pandas-docs/stable/user_guide/indexing.html#returning-a-view-versus-a-copy\n"
     ]
    },
    {
     "data": {
      "application/vnd.jupyter.widget-view+json": {
       "model_id": "14df07428b74497e8eeb88bf8143859b",
       "version_major": 2,
       "version_minor": 0
      },
      "text/plain": [
       "  0%|          | 0/987 [00:00<?, ?it/s]"
      ]
     },
     "metadata": {},
     "output_type": "display_data"
    },
    {
     "name": "stderr",
     "output_type": "stream",
     "text": [
      "c:\\users\\严书航\\appdata\\local\\programs\\python\\python37\\lib\\site-packages\\ipykernel_launcher.py:8: FutureWarning: Indexing with multiple keys (implicitly converted to a tuple of keys) will be deprecated, use a list instead.\n",
      "  \n"
     ]
    },
    {
     "data": {
      "application/vnd.jupyter.widget-view+json": {
       "model_id": "46168c95f08c48a091003566ba51153c",
       "version_major": 2,
       "version_minor": 0
      },
      "text/plain": [
       "  0%|          | 0/987 [00:00<?, ?it/s]"
      ]
     },
     "metadata": {},
     "output_type": "display_data"
    },
    {
     "data": {
      "application/vnd.jupyter.widget-view+json": {
       "model_id": "ad76d5c2eac44ec08a629a9f509fc28e",
       "version_major": 2,
       "version_minor": 0
      },
      "text/plain": [
       "  0%|          | 0/987 [00:00<?, ?it/s]"
      ]
     },
     "metadata": {},
     "output_type": "display_data"
    },
    {
     "data": {
      "application/vnd.jupyter.widget-view+json": {
       "model_id": "f5f22c64dc964743814efb173dd638e3",
       "version_major": 2,
       "version_minor": 0
      },
      "text/plain": [
       "  0%|          | 0/987 [00:00<?, ?it/s]"
      ]
     },
     "metadata": {},
     "output_type": "display_data"
    },
    {
     "data": {
      "application/vnd.jupyter.widget-view+json": {
       "model_id": "df86af80c3e949ff90ccfc7c6d5e01fd",
       "version_major": 2,
       "version_minor": 0
      },
      "text/plain": [
       "  0%|          | 0/987 [00:00<?, ?it/s]"
      ]
     },
     "metadata": {},
     "output_type": "display_data"
    },
    {
     "data": {
      "application/vnd.jupyter.widget-view+json": {
       "model_id": "0716bdee858040fb9c0f1cac64467bda",
       "version_major": 2,
       "version_minor": 0
      },
      "text/plain": [
       "  0%|          | 0/987 [00:00<?, ?it/s]"
      ]
     },
     "metadata": {},
     "output_type": "display_data"
    },
    {
     "data": {
      "application/vnd.jupyter.widget-view+json": {
       "model_id": "444a5f75749542168a5e42c73a5ed3f8",
       "version_major": 2,
       "version_minor": 0
      },
      "text/plain": [
       "  0%|          | 0/987 [00:00<?, ?it/s]"
      ]
     },
     "metadata": {},
     "output_type": "display_data"
    },
    {
     "data": {
      "application/vnd.jupyter.widget-view+json": {
       "model_id": "4f78f2ab07024e70ac554757b2e6287b",
       "version_major": 2,
       "version_minor": 0
      },
      "text/plain": [
       "  0%|          | 0/987 [00:00<?, ?it/s]"
      ]
     },
     "metadata": {},
     "output_type": "display_data"
    },
    {
     "data": {
      "application/vnd.jupyter.widget-view+json": {
       "model_id": "3569b7e710884209b9aea0b6e329ba14",
       "version_major": 2,
       "version_minor": 0
      },
      "text/plain": [
       "  0%|          | 0/987 [00:00<?, ?it/s]"
      ]
     },
     "metadata": {},
     "output_type": "display_data"
    },
    {
     "data": {
      "application/vnd.jupyter.widget-view+json": {
       "model_id": "158c451e375841bbbb7db7817e06cbc8",
       "version_major": 2,
       "version_minor": 0
      },
      "text/plain": [
       "  0%|          | 0/987 [00:00<?, ?it/s]"
      ]
     },
     "metadata": {},
     "output_type": "display_data"
    },
    {
     "data": {
      "application/vnd.jupyter.widget-view+json": {
       "model_id": "599acf494fc2420cbe77f4e527a6f228",
       "version_major": 2,
       "version_minor": 0
      },
      "text/plain": [
       "  0%|          | 0/987 [00:00<?, ?it/s]"
      ]
     },
     "metadata": {},
     "output_type": "display_data"
    },
    {
     "data": {
      "application/vnd.jupyter.widget-view+json": {
       "model_id": "ec4a7581e84640c08c9862b56e688407",
       "version_major": 2,
       "version_minor": 0
      },
      "text/plain": [
       "  0%|          | 0/987 [00:00<?, ?it/s]"
      ]
     },
     "metadata": {},
     "output_type": "display_data"
    }
   ],
   "source": [
    "f = pd.read_excel('data/偏股基金.xlsx')\n",
    "codes = f['证券代码']\n",
    "result = brinsonall(codes)"
   ]
  },
  {
   "cell_type": "code",
   "execution_count": 8,
   "metadata": {},
   "outputs": [],
   "source": [
    "writer = pd.ExcelWriter('results/ARSR2.xlsx')\n",
    "for x in ['arset', 'srset']:\n",
    "    table = result[x]\n",
    "    a = table.apply(lambda x: len(x[x>0]) / len(x), axis=1)\n",
    "    b = table.apply(lambda x: np.mean(x), axis=1)\n",
    "    c = table.apply(lambda x: np.median(x), axis=1)\n",
    "    table['winrate'] = a\n",
    "    table['average'] = b\n",
    "    table['median'] =c\n",
    "    table = f.merge(table, how='right', left_on='证券代码', right_index=True)\n",
    "    table.to_excel(writer, sheet_name=x)\n",
    "writer.close()"
   ]
  },
  {
   "cell_type": "code",
   "execution_count": 107,
   "metadata": {},
   "outputs": [],
   "source": []
  },
  {
   "cell_type": "code",
   "execution_count": null,
   "metadata": {},
   "outputs": [],
   "source": []
  },
  {
   "cell_type": "code",
   "execution_count": null,
   "metadata": {},
   "outputs": [],
   "source": []
  }
 ],
 "metadata": {
  "kernelspec": {
   "display_name": "Python 3 (ipykernel)",
   "language": "python",
   "name": "python3"
  },
  "language_info": {
   "codemirror_mode": {
    "name": "ipython",
    "version": 3
   },
   "file_extension": ".py",
   "mimetype": "text/x-python",
   "name": "python",
   "nbconvert_exporter": "python",
   "pygments_lexer": "ipython3",
   "version": "3.9.7"
  },
  "toc": {
   "base_numbering": 1,
   "nav_menu": {},
   "number_sections": true,
   "sideBar": true,
   "skip_h1_title": false,
   "title_cell": "Table of Contents",
   "title_sidebar": "Contents",
   "toc_cell": false,
   "toc_position": {},
   "toc_section_display": true,
   "toc_window_display": false
  }
 },
 "nbformat": 4,
 "nbformat_minor": 2
}
